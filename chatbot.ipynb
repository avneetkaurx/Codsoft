{
  "nbformat": 4,
  "nbformat_minor": 0,
  "metadata": {
    "colab": {
      "provenance": [],
      "authorship_tag": "ABX9TyP8g/3kpw+8HAcSRTUxL3bG",
      "include_colab_link": true
    },
    "kernelspec": {
      "name": "python3",
      "display_name": "Python 3"
    },
    "language_info": {
      "name": "python"
    }
  },
  "cells": [
    {
      "cell_type": "markdown",
      "metadata": {
        "id": "view-in-github",
        "colab_type": "text"
      },
      "source": [
        "<a href=\"https://colab.research.google.com/github/avneetkaurx/Codsoft/blob/main/chatbot.ipynb\" target=\"_parent\"><img src=\"https://colab.research.google.com/assets/colab-badge.svg\" alt=\"Open In Colab\"/></a>"
      ]
    },
    {
      "cell_type": "code",
      "execution_count": null,
      "metadata": {
        "id": "qBRasY1zEojA"
      },
      "outputs": [],
      "source": [
        "def input_bot_response(user_input):\n",
        "\n",
        "\n",
        "    user_input = user_input.lower()\n",
        "\n",
        "\n",
        "    rules = {\n",
        "        \"hello\": \"Hello! How can I assist you today?\",\n",
        "        \"who are you\": \"I'm your friendly bot to help you!\",\n",
        "        \"what is your name\": \"I'm a chatbot, and you can call me HEYbot.\",\n",
        "        \"can i ask you some questions\": \"Yeah sure, go with it.\",\n",
        "        \"what is your age\":\"I don't have an age because I'm just a computer program.\",\n",
        "        \"what is the population of delhi\": \"As of my last update, it is estimated around 30 million.\",\n",
        "        \"who is the prime minister of india\":\" Narendra Modi\",\n",
        "        \"when is g20 summit in india\":\"09-10 September 2023\",\n",
        "        \"can you answer all my questions\":\" I will definitely try.\",\n",
        "        \"HEYbot, what is your favourite item to eat\":\"I don't have personal preferences or the ability to eat as I am just a computer program designed to provide information and assist with tasks. \",\n",
        "        \"what is ai\":\"Artificial Intelligence (AI) is the simulation in machines, enabling them to perform tasks that typically require human intelligence.\",\n",
        "        \"full form of un\":\"United Nations.\",\n",
        "        \"translate hello in spanish\":\" Hello in Spanish is 'Hola'. \",\n",
        "        \"how to lose weight\":\"Balanced diet, physical exercise and 8 hours of sleep can help you stay fit and lose weight.\",\n",
        "        \"how to calculate bmi\":\" BMI = weight (kg) / (height (m) * height (m))\",\n",
        "        \"who painted mona lisa\":\"The Mona Lisa was painted by the Italian Renaissance artist Leonardo da Vinci.\",\n",
        "        \"currency of japan\":\"The currency of Japan is the Japanese Yen, which is abbreviated as JPY. The symbol for the Japanese Yen is ¥.\",\n",
        "        \"chemical symbol of gold\":\"Au\",\n",
        "        \"most commonly used programming language in the world\":\"JavaScript, Python, Java, C#, PHP, C++, Ruby\",\n",
        "        \"bye\": \"Goodbye! Have a great day!\",\n",
        "    }\n",
        "\n",
        "\n",
        "    for rule, response in rules.items():\n",
        "        if rule in user_input:\n",
        "            return response\n",
        "\n",
        "\n",
        "    return \"I'm not sure how to respond to that. Please ask another question.\"\n",
        "\n",
        "\n",
        "print(\"Hello! I'm HEYbot to help you.\")\n",
        "while True:\n",
        "    user_input = input(\"You: \")\n",
        "    if user_input.lower() == 'bye':\n",
        "        print(\"HEYbot: Goodbye!\")\n",
        "        break\n",
        "    the_bot_response = input_bot_response(user_input)\n",
        "    print(\"HEYbot:\", the_bot_response)\n",
        "\n",
        ""
      ]
    }
  ]
}